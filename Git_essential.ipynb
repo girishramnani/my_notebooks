{
 "cells": [
  {
   "cell_type": "markdown",
   "metadata": {
    "internals": {
     "slide_helper": "subslide_end",
     "slide_type": "subslide"
    },
    "slide_helper": "slide_end",
    "slideshow": {
     "slide_type": "slide"
    }
   },
   "source": [
    "<h1><center>Git Essentials </center><h1>"
   ]
  },
  {
   "cell_type": "markdown",
   "metadata": {
    "internals": {
     "slide_type": "subslide"
    },
    "slideshow": {
     "slide_type": "slide"
    }
   },
   "source": [
    "<h1>Understanding Version control </h1>\n",
    "<ul><li>Finding the types of version control system available</li>\n",
    "<br>\n",
    "<li>finding the syntax available to for each system </li>\n",
    "<br><li>use the version control system to work with open source code </li>\n",
    "<br>\n",
    "<li> working on the internal working of one of the version control system </li>\n",
    "<br>\n",
    "</ul>"
   ]
  },
  {
   "cell_type": "markdown",
   "metadata": {
    "internals": {
     "slide_helper": "subslide_end"
    },
    "slide_helper": "slide_end",
    "slideshow": {
     "slide_type": "-"
    }
   },
   "source": [
    "#Abstract Idea behind the Seminar\n",
    "\n",
    "<p>The purpose of the seminar is to understand the working of open source world using some concepts such as version control systems , issue tracking etc. First, by throught research find different version control systems available in the market and also understand for what scenerio that system would work.</p>\n",
    "<br>\n",
    "<p>after the above process, the working of the selected version control system is to be understood. understand the eco-system of the version control and also use the features at a reasonable depth </p>\n",
    "<br>\n",
    "<p>Understand the internal working of the code-base , the pros and cons of the implementation eg- Github has a git pseudofile system .</p>"
   ]
  },
  {
   "cell_type": "markdown",
   "metadata": {
    "internals": {
     "slide_type": "subslide"
    },
    "slideshow": {
     "slide_type": "slide"
    }
   },
   "source": [
    "##<ul><li>creating and changing directory </li>\n"
   ]
  },
  {
   "cell_type": "code",
   "execution_count": 3,
   "metadata": {
    "collapsed": false,
    "internals": {
     "frag_number": 4,
     "slide_helper": "subslide_end"
    },
    "slide_helper": "slide_end",
    "slideshow": {
     "slide_type": "fragment"
    }
   },
   "outputs": [
    {
     "name": "stdout",
     "output_type": "stream",
     "text": [
      "[Errno 2] No such file or directory: 'C:/Users/Girish'\n",
      "/media/girish/1C12F8E012F8BFB6/Users/Girish\n",
      "mkdir: cannot create directory ‘work’: File exists\r\n"
     ]
    }
   ],
   "source": [
    "\n",
    "import os\n",
    "%cd C:\\Users\\Girish\n",
    "!rm -r \"work\"\n",
    "!mkdir \"work\"\n"
   ]
  },
  {
   "cell_type": "markdown",
   "metadata": {
    "internals": {
     "frag_helper": "fragment_end",
     "frag_number": 4,
     "slide_type": "subslide"
    },
    "slideshow": {
     "slide_type": "slide"
    }
   },
   "source": [
    "##<li>Initializing the GIT repository</li>"
   ]
  },
  {
   "cell_type": "code",
   "execution_count": 4,
   "metadata": {
    "collapsed": false,
    "internals": {
     "frag_helper": "fragment_end",
     "frag_number": 6,
     "slide_helper": "subslide_end"
    },
    "slide_helper": "slide_end",
    "slideshow": {
     "slide_type": "fragment"
    }
   },
   "outputs": [
    {
     "name": "stdout",
     "output_type": "stream",
     "text": [
      "/media/girish/1C12F8E012F8BFB6/Users/Girish/work\n",
      "Reinitialized existing Git repository in /media/girish/1C12F8E012F8BFB6/Users/Girish/work/.git/\n"
     ]
    }
   ],
   "source": [
    "%cd work\n",
    "!git init"
   ]
  },
  {
   "cell_type": "markdown",
   "metadata": {
    "internals": {
     "frag_helper": "fragment_end",
     "frag_number": 6,
     "slide_type": "subslide"
    },
    "slideshow": {
     "slide_type": "slide"
    }
   },
   "source": [
    "##<li>understanding the staging area</li></ul>"
   ]
  },
  {
   "cell_type": "code",
   "execution_count": 5,
   "metadata": {
    "collapsed": false,
    "internals": {
     "frag_helper": "fragment_end",
     "frag_number": 8,
     "slide_helper": "subslide_end"
    },
    "slide_helper": "slide_end",
    "slideshow": {
     "slide_type": "fragment"
    }
   },
   "outputs": [
    {
     "name": "stdout",
     "output_type": "stream",
     "text": [
      "On branch master\r\n",
      "\r\n",
      "Initial commit\r\n",
      "\r\n",
      "Changes to be committed:\r\n",
      "  (use \"git rm --cached <file>...\" to unstage)\r\n",
      "\r\n",
      "\t\u001b[32mnew file:   octocat.txt\u001b[m\r\n",
      "\r\n"
     ]
    }
   ],
   "source": [
    "!git status"
   ]
  },
  {
   "cell_type": "markdown",
   "metadata": {
    "internals": {
     "frag_helper": "fragment_end",
     "frag_number": 8,
     "slide_type": "subslide"
    },
    "slideshow": {
     "slide_type": "slide"
    }
   },
   "source": [
    "### adding a file \"octocat.txt\""
   ]
  },
  {
   "cell_type": "markdown",
   "metadata": {
    "internals": {
     "frag_helper": "fragment_end",
     "frag_number": 10
    },
    "slideshow": {
     "slide_type": "fragment"
    }
   },
   "source": [
    "-> now the directory contains a file ready to work on"
   ]
  },
  {
   "cell_type": "code",
   "execution_count": 6,
   "metadata": {
    "collapsed": false,
    "internals": {
     "frag_helper": "fragment_end",
     "frag_number": 11,
     "slide_helper": "subslide_end"
    },
    "slide_helper": "slide_end",
    "slideshow": {
     "slide_type": "fragment"
    }
   },
   "outputs": [
    {
     "name": "stdout",
     "output_type": "stream",
     "text": [
      "/bin/sh: 1: copy: not found\n",
      "On branch master\n",
      "\n",
      "Initial commit\n",
      "\n",
      "Changes to be committed:\n",
      "  (use \"git rm --cached <file>...\" to unstage)\n",
      "\n",
      "\t\u001b[32mnew file:   octocat.txt\u001b[m\n",
      "\n"
     ]
    }
   ],
   "source": [
    "!copy ..\\test\\octocat.txt octocat.txt\n",
    "!git status"
   ]
  },
  {
   "cell_type": "markdown",
   "metadata": {
    "internals": {
     "frag_helper": "fragment_end",
     "frag_number": 11,
     "slide_type": "subslide"
    },
    "slideshow": {
     "slide_type": "slide"
    }
   },
   "source": [
    "##now adding the file to staging area\n",
    "<p>the staging area is like a file watcher which checks for any modification to the document that has been staged <p>\n"
   ]
  },
  {
   "cell_type": "code",
   "execution_count": 10,
   "metadata": {
    "collapsed": false,
    "internals": {
     "frag_helper": "fragment_end",
     "frag_number": 13,
     "slide_helper": "subslide_end"
    },
    "slide_helper": "slide_end",
    "slideshow": {
     "slide_type": "fragment"
    }
   },
   "outputs": [
    {
     "name": "stdout",
     "output_type": "stream",
     "text": [
      "On branch master\r\n",
      "\r\n",
      "Initial commit\r\n",
      "\r\n",
      "Changes to be committed:\r\n",
      "  (use \"git rm --cached <file>...\" to unstage)\r\n",
      "\r\n",
      "\t\u001b[32mnew file:   octocat.txt\u001b[m\r\n",
      "\r\n"
     ]
    }
   ],
   "source": [
    "!git add octocat.txt\n",
    "!git status\n"
   ]
  },
  {
   "cell_type": "markdown",
   "metadata": {
    "internals": {
     "frag_helper": "fragment_end",
     "frag_number": 13,
     "slide_type": "subslide"
    },
    "slideshow": {
     "slide_type": "slide"
    }
   },
   "source": [
    "##maybe you did an error and wanna remove the file from staging area"
   ]
  },
  {
   "cell_type": "code",
   "execution_count": 11,
   "metadata": {
    "collapsed": false,
    "internals": {
     "frag_helper": "fragment_end",
     "frag_number": 15
    },
    "slideshow": {
     "slide_type": "fragment"
    }
   },
   "outputs": [
    {
     "name": "stdout",
     "output_type": "stream",
     "text": [
      "rm 'octocat.txt'\r\n"
     ]
    }
   ],
   "source": [
    "!git rm --cached octocat.txt"
   ]
  },
  {
   "cell_type": "code",
   "execution_count": 12,
   "metadata": {
    "collapsed": false,
    "internals": {
     "frag_helper": "fragment_end",
     "frag_number": 16,
     "slide_helper": "subslide_end"
    },
    "slide_helper": "slide_end",
    "slideshow": {
     "slide_type": "fragment"
    }
   },
   "outputs": [
    {
     "name": "stdout",
     "output_type": "stream",
     "text": [
      "On branch master\r\n",
      "\r\n",
      "Initial commit\r\n",
      "\r\n",
      "Untracked files:\r\n",
      "  (use \"git add <file>...\" to include in what will be committed)\r\n",
      "\r\n",
      "\t\u001b[31moctocat.txt\u001b[m\r\n",
      "\r\n",
      "nothing added to commit but untracked files present (use \"git add\" to track)\r\n"
     ]
    }
   ],
   "source": [
    "!git status\n"
   ]
  },
  {
   "cell_type": "markdown",
   "metadata": {
    "internals": {
     "frag_helper": "fragment_end",
     "frag_number": 16,
     "slide_type": "subslide"
    },
    "slideshow": {
     "slide_type": "slide"
    }
   },
   "source": [
    "#Now commiting the document"
   ]
  },
  {
   "cell_type": "markdown",
   "metadata": {
    "internals": {
     "frag_helper": "fragment_end",
     "frag_number": 18
    },
    "slideshow": {
     "slide_type": "fragment"
    }
   },
   "source": [
    "<p> Commiting the document means to actually store it to the `local` repository </p> \n",
    "<p> you need to give a message with the commit that u do , which will provide extra information about the changes you have commited </p>\n"
   ]
  },
  {
   "cell_type": "code",
   "execution_count": 16,
   "metadata": {
    "collapsed": false,
    "internals": {
     "frag_helper": "fragment_end",
     "frag_number": 19,
     "slide_helper": "subslide_end"
    },
    "slide_helper": "slide_end",
    "slideshow": {
     "slide_type": "fragment"
    }
   },
   "outputs": [
    {
     "name": "stdout",
     "output_type": "stream",
     "text": [
      "fatal: This operation must be run in a work tree\n",
      "fatal: This operation must be run in a work tree\n"
     ]
    }
   ],
   "source": [
    "!git add octocat.txt\n",
    "!git commit -m \"new commit\""
   ]
  },
  {
   "cell_type": "markdown",
   "metadata": {
    "internals": {
     "frag_helper": "fragment_end",
     "frag_number": 19,
     "slide_type": "subslide"
    },
    "slideshow": {
     "slide_type": "slide"
    }
   },
   "source": [
    "\n",
    "#Git Internals\n",
    "<br>\n",
    "<font size=\"4\">\n",
    "<p>Github uses a blob to store file content in the repository</p>\n",
    "<p>The content related to commits is stored in the `.git` folder of the repository</p>\n",
    "</font>\n"
   ]
  },
  {
   "cell_type": "code",
   "execution_count": 15,
   "metadata": {
    "collapsed": false,
    "internals": {
     "frag_helper": "fragment_end",
     "frag_number": 21,
     "slide_helper": "subslide_end"
    },
    "slide_helper": "slide_end",
    "slideshow": {
     "slide_type": "fragment"
    }
   },
   "outputs": [
    {
     "name": "stdout",
     "output_type": "stream",
     "text": [
      "[Errno 2] No such file or directory: '.git'\n",
      "/media/girish/1C12F8E012F8BFB6/Users/Girish/work/.git\n",
      "branches\tconfig\t     HEAD   index  logs     refs\r\n",
      "COMMIT_EDITMSG\tdescription  hooks  info   objects\r\n"
     ]
    }
   ],
   "source": [
    "%cd .git\n",
    "!dir"
   ]
  },
  {
   "cell_type": "markdown",
   "metadata": {
    "internals": {
     "frag_helper": "fragment_end",
     "frag_number": 21,
     "slide_helper": "subslide_end",
     "slide_type": "subslide"
    },
    "slide_helper": "slide_end",
    "slideshow": {
     "slide_type": "slide"
    }
   },
   "source": [
    "\n",
    "#So what is a blob?\n",
    "<br>\n",
    "<font size=\"4\">\n",
    "\n",
    "<p>the blob is actually a git object which uses sha-1 hash to uniquely identify each file.</p>\n",
    "<br>\n",
    "<p>They are stored in the `object` directory of the `.git` directory</p>\n",
    "</font>"
   ]
  },
  {
   "cell_type": "code",
   "execution_count": 17,
   "metadata": {
    "collapsed": false,
    "internals": {
     "frag_helper": "fragment_end",
     "frag_number": 21,
     "slide_helper": "subslide_end",
     "slide_type": "subslide"
    },
    "slide_helper": "slide_end",
    "slideshow": {
     "slide_type": "slide"
    }
   },
   "outputs": [
    {
     "name": "stdout",
     "output_type": "stream",
     "text": [
      "dir: cannot access /s: No such file or directory\r\n",
      "objects:\r\n",
      "00  16\t25  info  pack\r\n"
     ]
    }
   ],
   "source": [
    "!dir objects /s"
   ]
  },
  {
   "cell_type": "markdown",
   "metadata": {
    "internals": {
     "frag_helper": "fragment_end",
     "frag_number": 21,
     "slide_type": "subslide"
    },
    "slideshow": {
     "slide_type": "slide"
    }
   },
   "source": [
    "#So whats inside the blob file\n",
    "\n",
    "##the blob file contains some header information and content of the file in compressed form.\n"
   ]
  },
  {
   "cell_type": "code",
   "execution_count": 18,
   "metadata": {
    "collapsed": false,
    "internals": {
     "frag_helper": "fragment_end",
     "frag_number": 25,
     "slide_helper": "subslide_end"
    },
    "slide_helper": "slide_end",
    "slideshow": {
     "slide_type": "fragment"
    }
   },
   "outputs": [
    {
     "name": "stdout",
     "output_type": "stream",
     "text": [
      "girish ramnani is my name"
     ]
    }
   ],
   "source": [
    "!git cat-file -p 00e98496a600c6daf37d8897c2c5049fe35fd06a"
   ]
  },
  {
   "cell_type": "markdown",
   "metadata": {
    "internals": {
     "frag_helper": "fragment_end",
     "frag_number": 25,
     "slide_helper": "subslide_end",
     "slide_type": "subslide"
    },
    "slide_helper": "slide_end",
    "slideshow": {
     "slide_type": "slide"
    }
   },
   "source": [
    "#Directory Storage\n",
    "\n",
    "\n",
    "##directory are stored in the form of a tree structure\n",
    "<br>\n",
    "<font size=\"5\">\n",
    "<ul><li>Header Information</li>\n",
    "<br>\n",
    "<li>For each file and directory in the repo :- </li>\n",
    "<br>\n",
    "<ul>\n",
    "<li> File permissions</li>\n",
    "<br>\n",
    "<li> Object types (blob or tree)</li>\n",
    "<br>\n",
    "<li> SHA-1</li>\n",
    "<br>\n",
    "<li>file / Directory name</li>\n",
    "</ul>"
   ]
  },
  {
   "cell_type": "code",
   "execution_count": 13,
   "metadata": {
    "collapsed": false,
    "internals": {
     "frag_helper": "fragment_end",
     "frag_number": 25,
     "slide_type": "subslide"
    },
    "slideshow": {
     "slide_type": "slide"
    }
   },
   "outputs": [
    {
     "name": "stdout",
     "output_type": "stream",
     "text": [
      "100644 blob 00e98496a600c6daf37d8897c2c5049fe35fd06a\toctocat.txt\n"
     ]
    }
   ],
   "source": [
    "!git cat-file -p 25970a5731d375a874849d00c224e88ee36c7ee8"
   ]
  },
  {
   "cell_type": "code",
   "execution_count": 14,
   "metadata": {
    "collapsed": false,
    "internals": {
     "frag_helper": "fragment_end",
     "frag_number": 28
    },
    "slideshow": {
     "slide_type": "fragment"
    }
   },
   "outputs": [
    {
     "name": "stdout",
     "output_type": "stream",
     "text": [
      "girish ramnani is my name\n"
     ]
    }
   ],
   "source": [
    "!git cat-file -p 00e98496a600c6daf37d8897c2c5049fe35fd06a"
   ]
  },
  {
   "cell_type": "code",
   "execution_count": 15,
   "metadata": {
    "collapsed": false,
    "internals": {
     "frag_helper": "fragment_end",
     "frag_number": 28,
     "slide_helper": "subslide_end"
    },
    "slide_helper": "slide_end",
    "slideshow": {
     "slide_type": "-"
    }
   },
   "outputs": [
    {
     "name": "stdout",
     "output_type": "stream",
     "text": [
      "C:\\Users\\Girish\\work\n"
     ]
    }
   ],
   "source": [
    "%cd .."
   ]
  },
  {
   "cell_type": "markdown",
   "metadata": {
    "internals": {
     "frag_helper": "fragment_end",
     "frag_number": 28,
     "slide_type": "subslide"
    },
    "slideshow": {
     "slide_type": "slide"
    }
   },
   "source": [
    "#Show commit history"
   ]
  },
  {
   "cell_type": "code",
   "execution_count": 16,
   "metadata": {
    "collapsed": false,
    "internals": {
     "frag_helper": "fragment_end",
     "frag_number": 31
    },
    "slideshow": {
     "slide_type": "fragment"
    }
   },
   "outputs": [
    {
     "name": "stdout",
     "output_type": "stream",
     "text": [
      "commit 6c4d3f650ca2bb4d4f2b98fb19728ab8d5bc3f82\n",
      "Author: girishramnani <girishramnani95@gmail.com>\n",
      "Date:   Thu Feb 12 02:47:17 2015 +0530\n",
      "\n",
      "    new commit\n"
     ]
    }
   ],
   "source": [
    "!git log"
   ]
  },
  {
   "cell_type": "markdown",
   "metadata": {
    "internals": {
     "frag_helper": "fragment_end",
     "frag_number": 32
    },
    "slideshow": {
     "slide_type": "fragment"
    }
   },
   "source": [
    "##getting some more info\n"
   ]
  },
  {
   "cell_type": "code",
   "execution_count": 17,
   "metadata": {
    "collapsed": false,
    "internals": {
     "frag_helper": "fragment_end",
     "frag_number": 32,
     "slide_helper": "subslide_end"
    },
    "slide_helper": "slide_end",
    "slideshow": {
     "slide_type": "-"
    }
   },
   "outputs": [
    {
     "name": "stdout",
     "output_type": "stream",
     "text": [
      "commit 6c4d3f650ca2bb4d4f2b98fb19728ab8d5bc3f82\n",
      "Author: girishramnani <girishramnani95@gmail.com>\n",
      "Date:   Thu Feb 12 02:47:17 2015 +0530\n",
      "\n",
      "    new commit\n",
      "\n",
      " octocat.txt | 1 +\n",
      " 1 file changed, 1 insertion(+)\n"
     ]
    }
   ],
   "source": [
    "!git log --stat"
   ]
  },
  {
   "cell_type": "markdown",
   "metadata": {
    "internals": {
     "frag_helper": "fragment_end",
     "frag_number": 32,
     "slide_type": "subslide"
    },
    "slideshow": {
     "slide_type": "slide"
    }
   },
   "source": [
    "##getting less info"
   ]
  },
  {
   "cell_type": "code",
   "execution_count": 18,
   "metadata": {
    "collapsed": false,
    "internals": {
     "frag_helper": "fragment_end",
     "frag_number": 32,
     "slide_helper": "subslide_end"
    },
    "slide_helper": "slide_end",
    "slideshow": {
     "slide_type": "-"
    }
   },
   "outputs": [
    {
     "name": "stdout",
     "output_type": "stream",
     "text": [
      "6c4d3f6 new commit\n"
     ]
    }
   ],
   "source": [
    "!git log --oneline"
   ]
  },
  {
   "cell_type": "markdown",
   "metadata": {
    "internals": {
     "frag_helper": "fragment_end",
     "frag_number": 32,
     "slide_type": "subslide"
    },
    "slideshow": {
     "slide_type": "slide"
    }
   },
   "source": [
    "#Working with branches\n",
    "\n",
    "<br>\n",
    "<font size=\"5\"><p> Github provides a feature called branch which gives us the ability to create \n",
    "an extra instance of the repo, so we can work on some extra experimental feature on that branch. </p>\n",
    "<p> the default branch on which the repo is initialized is called `master` branch. </p>\n",
    "</font>\n"
   ]
  },
  {
   "cell_type": "code",
   "execution_count": 19,
   "metadata": {
    "collapsed": false,
    "internals": {
     "frag_helper": "fragment_end",
     "frag_number": 37
    },
    "slideshow": {
     "slide_type": "fragment"
    }
   },
   "outputs": [
    {
     "name": "stdout",
     "output_type": "stream",
     "text": [
      "* master\n"
     ]
    }
   ],
   "source": [
    "!git branch"
   ]
  },
  {
   "cell_type": "code",
   "execution_count": 39,
   "metadata": {
    "collapsed": false,
    "internals": {
     "frag_helper": "fragment_end",
     "frag_number": 38,
     "slide_helper": "subslide_end"
    },
    "slide_helper": "slide_end",
    "slideshow": {
     "slide_type": "fragment"
    }
   },
   "outputs": [
    {
     "name": "stdout",
     "output_type": "stream",
     "text": [
      "  experimental\u001b[m\r\n",
      "  girihs\u001b[m\r\n",
      "* \u001b[32mmaster\u001b[m\r\n"
     ]
    }
   ],
   "source": [
    "!git branch experimental\n",
    "!git branch"
   ]
  },
  {
   "cell_type": "markdown",
   "metadata": {
    "internals": {
     "frag_helper": "fragment_end",
     "frag_number": 38,
     "slide_type": "subslide"
    },
    "slideshow": {
     "slide_type": "slide"
    }
   },
   "source": [
    "#Switching branches\n",
    "\n"
   ]
  },
  {
   "cell_type": "code",
   "execution_count": 42,
   "metadata": {
    "collapsed": false,
    "internals": {
     "frag_helper": "fragment_end",
     "frag_number": 40
    },
    "slideshow": {
     "slide_type": "fragment"
    }
   },
   "outputs": [
    {
     "name": "stdout",
     "output_type": "stream",
     "text": [
      "  experimental\u001b[m\n",
      "  girihs\u001b[m\n",
      "* \u001b[32mmaster\u001b[m\n",
      "Switched to branch 'experimental'\n"
     ]
    }
   ],
   "source": [
    "!git branch\n",
    "!git checkout experimental"
   ]
  },
  {
   "cell_type": "code",
   "execution_count": 45,
   "metadata": {
    "collapsed": false,
    "internals": {
     "frag_helper": "fragment_end",
     "frag_number": 41
    },
    "slideshow": {
     "slide_type": "fragment"
    }
   },
   "outputs": [
    {
     "name": "stdout",
     "output_type": "stream",
     "text": [
      "/bin/sh: 1: copy: not found\r\n"
     ]
    }
   ],
   "source": [
    "!copy ..\\test\\red-octocat.txt red-octocat.txt"
   ]
  },
  {
   "cell_type": "code",
   "execution_count": 41,
   "metadata": {
    "collapsed": false,
    "internals": {
     "frag_helper": "fragment_end",
     "frag_number": 42,
     "slide_helper": "subslide_end"
    },
    "slide_helper": "slide_end",
    "slideshow": {
     "slide_type": "fragment"
    }
   },
   "outputs": [
    {
     "name": "stdout",
     "output_type": "stream",
     "text": [
      "On branch master\r\n",
      "nothing to commit, working directory clean\r\n"
     ]
    }
   ],
   "source": [
    "!git status"
   ]
  },
  {
   "cell_type": "markdown",
   "metadata": {
    "internals": {
     "frag_helper": "fragment_end",
     "frag_number": 42,
     "slide_type": "subslide"
    },
    "slideshow": {
     "slide_type": "slide"
    }
   },
   "source": [
    "#so now commiting the content to the branch `experimental`"
   ]
  },
  {
   "cell_type": "code",
   "execution_count": 11,
   "metadata": {
    "collapsed": false,
    "internals": {
     "frag_helper": "fragment_end",
     "frag_number": 44
    },
    "slideshow": {
     "slide_type": "fragment"
    }
   },
   "outputs": [
    {
     "name": "stdout",
     "output_type": "stream",
     "text": [
      "On branch experimental\n",
      "Changes to be committed:\n",
      "  (use \"git reset HEAD <file>...\" to unstage)\n",
      "\n",
      "\tnew file:   red-octocat.txt\n",
      "\n"
     ]
    }
   ],
   "source": [
    "!git add red-octocat.txt\n",
    "!git status"
   ]
  },
  {
   "cell_type": "code",
   "execution_count": 12,
   "metadata": {
    "collapsed": false,
    "internals": {
     "frag_helper": "fragment_end",
     "frag_number": 44,
     "slide_helper": "subslide_end"
    },
    "slide_helper": "slide_end",
    "slideshow": {
     "slide_type": "-"
    }
   },
   "outputs": [
    {
     "name": "stdout",
     "output_type": "stream",
     "text": [
      "[experimental 2805276] experimental\n",
      " 1 file changed, 1 insertion(+)\n",
      " create mode 100644 red-octocat.txt\n"
     ]
    }
   ],
   "source": [
    "!git commit -m \"experimental\""
   ]
  },
  {
   "cell_type": "markdown",
   "metadata": {
    "internals": {
     "frag_helper": "fragment_end",
     "frag_number": 44,
     "slide_type": "subslide"
    },
    "slideshow": {
     "slide_type": "slide"
    }
   },
   "source": [
    "#so now the `experimental` branch has 2 commits\n"
   ]
  },
  {
   "cell_type": "code",
   "execution_count": 13,
   "metadata": {
    "collapsed": false,
    "internals": {
     "frag_helper": "fragment_end",
     "frag_number": 47,
     "slide_helper": "subslide_end"
    },
    "slide_helper": "slide_end",
    "slideshow": {
     "slide_type": "fragment"
    }
   },
   "outputs": [
    {
     "name": "stdout",
     "output_type": "stream",
     "text": [
      "commit 280527648e09b35fb0060d5ce139d56e132236e8\n",
      "Author: girishramnani <girishramnani95@gmail.com>\n",
      "Date:   Thu Feb 12 10:18:04 2015 +0530\n",
      "\n",
      "    experimental\n",
      "\n",
      "commit 6c4d3f650ca2bb4d4f2b98fb19728ab8d5bc3f82\n",
      "Author: girishramnani <girishramnani95@gmail.com>\n",
      "Date:   Thu Feb 12 02:47:17 2015 +0530\n",
      "\n",
      "    new commit\n"
     ]
    }
   ],
   "source": [
    "!git log"
   ]
  },
  {
   "cell_type": "markdown",
   "metadata": {
    "internals": {
     "frag_helper": "fragment_end",
     "frag_number": 47,
     "slide_type": "subslide"
    },
    "slideshow": {
     "slide_type": "slide"
    }
   },
   "source": [
    "#changing the branch to `master` again"
   ]
  },
  {
   "cell_type": "code",
   "execution_count": 8,
   "metadata": {
    "collapsed": false,
    "internals": {
     "frag_helper": "fragment_end",
     "frag_number": 49
    },
    "slideshow": {
     "slide_type": "fragment"
    }
   },
   "outputs": [
    {
     "name": "stdout",
     "output_type": "stream",
     "text": [
      "error: pathspec 'master' did not match any file(s) known to git.\r\n"
     ]
    }
   ],
   "source": [
    "!git checkout master"
   ]
  },
  {
   "cell_type": "markdown",
   "metadata": {
    "internals": {
     "frag_helper": "fragment_end",
     "frag_number": 50
    },
    "slideshow": {
     "slide_type": "fragment"
    }
   },
   "source": [
    "##It can be observed that the `master` branch will be having only one commit "
   ]
  },
  {
   "cell_type": "code",
   "execution_count": 19,
   "metadata": {
    "collapsed": false,
    "internals": {
     "frag_helper": "fragment_end",
     "frag_number": 51,
     "slide_helper": "subslide_end"
    },
    "slide_helper": "slide_end",
    "slideshow": {
     "slide_type": "fragment"
    }
   },
   "outputs": [
    {
     "name": "stdout",
     "output_type": "stream",
     "text": [
      "\u001b[33mcommit 16016b943a08be222eef214a45d981101e07d90c\u001b[m\r\n",
      "Author: girishramnani <girishramnani95@gmail.com>\r\n",
      "Date:   Wed Apr 8 09:45:17 2015 +0530\r\n",
      "\r\n",
      "    new commit\r\n"
     ]
    }
   ],
   "source": [
    "!git log "
   ]
  },
  {
   "cell_type": "markdown",
   "metadata": {
    "collapsed": true
   },
   "source": [
    "###now adding some content in the file and adding "
   ]
  },
  {
   "cell_type": "code",
   "execution_count": 23,
   "metadata": {
    "collapsed": false
   },
   "outputs": [
    {
     "name": "stdout",
     "output_type": "stream",
     "text": [
      "octocat.txt\r\n"
     ]
    }
   ],
   "source": [
    "%cd ..\n",
    "\n"
   ]
  },
  {
   "cell_type": "code",
   "execution_count": 25,
   "metadata": {
    "collapsed": true
   },
   "outputs": [],
   "source": [
    "!echo \"work in this\" > octocat.txt"
   ]
  },
  {
   "cell_type": "code",
   "execution_count": 27,
   "metadata": {
    "collapsed": false
   },
   "outputs": [
    {
     "name": "stdout",
     "output_type": "stream",
     "text": [
      "[master fbfdbbb] next commit\r\n",
      " 1 file changed, 1 insertion(+), 1 deletion(-)\r\n"
     ]
    }
   ],
   "source": [
    "!git add octocat.txt\n",
    "!git commit -m \"next commit\""
   ]
  },
  {
   "cell_type": "code",
   "execution_count": 30,
   "metadata": {
    "collapsed": false
   },
   "outputs": [
    {
     "name": "stdout",
     "output_type": "stream",
     "text": [
      "\u001b[33mcommit fbfdbbb4c6ca4bddb4e346d4b1256c6221a78877\u001b[m\r\n",
      "Author: girishramnani <girishramnani95@gmail.com>\r\n",
      "Date:   Wed Apr 8 09:55:31 2015 +0530\r\n",
      "\r\n",
      "    next commit\r\n",
      "\r\n",
      "\u001b[33mcommit 16016b943a08be222eef214a45d981101e07d90c\u001b[m\r\n",
      "Author: girishramnani <girishramnani95@gmail.com>\r\n",
      "Date:   Wed Apr 8 09:45:17 2015 +0530\r\n",
      "\r\n",
      "    new commit\r\n"
     ]
    }
   ],
   "source": [
    "!git log"
   ]
  },
  {
   "cell_type": "code",
   "execution_count": 33,
   "metadata": {
    "collapsed": false
   },
   "outputs": [
    {
     "name": "stdout",
     "output_type": "stream",
     "text": [
      "* \u001b[33mcommit fbfdbbb4c6ca4bddb4e346d4b1256c6221a78877\u001b[m\u001b[33m (\u001b[1;36mHEAD\u001b[m\u001b[33m, \u001b[1;32mmaster\u001b[m\u001b[33m)\u001b[m\r\n",
      "\u001b[31m|\u001b[m Author: girishramnani <girishramnani95@gmail.com>\r\n",
      "\u001b[31m|\u001b[m Date:   Wed Apr 8 09:55:31 2015 +0530\r\n",
      "\u001b[31m|\u001b[m \r\n",
      "\u001b[31m|\u001b[m     next commit\r\n",
      "\u001b[31m|\u001b[m  \r\n",
      "* \u001b[33mcommit 16016b943a08be222eef214a45d981101e07d90c\u001b[m\r\n",
      "  Author: girishramnani <girishramnani95@gmail.com>\r\n",
      "  Date:   Wed Apr 8 09:45:17 2015 +0530\r\n",
      "  \r\n",
      "      new commit\r\n"
     ]
    }
   ],
   "source": [
    "!git log --all --graph --decorate"
   ]
  },
  {
   "cell_type": "markdown",
   "metadata": {},
   "source": [
    "#Mergeing branch\n",
    "<br>\n",
    "<font size=4> When some of your features are complete and ready to be in the main build you can merge the branch in.</font>\n"
   ]
  },
  {
   "cell_type": "code",
   "execution_count": 47,
   "metadata": {
    "collapsed": false
   },
   "outputs": [
    {
     "name": "stdout",
     "output_type": "stream",
     "text": [
      "Already up-to-date.\r\n"
     ]
    }
   ],
   "source": [
    "!git merge experimental"
   ]
  },
  {
   "cell_type": "code",
   "execution_count": 51,
   "metadata": {
    "collapsed": false
   },
   "outputs": [
    {
     "name": "stdout",
     "output_type": "stream",
     "text": [
      "* \u001b[33mfbfdbbb\u001b[m\u001b[33m (\u001b[1;36mHEAD\u001b[m\u001b[33m, \u001b[1;32mmaster\u001b[m\u001b[33m, \u001b[1;32mgirihs\u001b[m\u001b[33m, \u001b[1;32mexperimental\u001b[m\u001b[33m)\u001b[m next commit\r\n",
      "* \u001b[33m16016b9\u001b[m new commit\r\n"
     ]
    }
   ],
   "source": [
    "!git log --graph --all --decorate --oneline"
   ]
  },
  {
   "cell_type": "markdown",
   "metadata": {},
   "source": [
    "#To find difference in files using diff"
   ]
  },
  {
   "cell_type": "code",
   "execution_count": 54,
   "metadata": {
    "collapsed": false
   },
   "outputs": [
    {
     "name": "stdout",
     "output_type": "stream",
     "text": [
      "\u001b[1mdiff --git a/octocat.txt b/octocat.txt\u001b[m\r\n",
      "\u001b[1mindex 00e9849..d6a614b 100644\u001b[m\r\n",
      "\u001b[1m--- a/octocat.txt\u001b[m\r\n",
      "\u001b[1m+++ b/octocat.txt\u001b[m\r\n",
      "\u001b[36m@@ -1 +1 @@\u001b[m\r\n",
      "\u001b[31m-girish ramnani is my name\u001b[m\r\n",
      "\\ No newline at end of file\u001b[m\r\n",
      "\u001b[32m+\u001b[m\u001b[32mwork in this\u001b[m\r\n"
     ]
    }
   ],
   "source": [
    "!git diff 16016b9"
   ]
  },
  {
   "cell_type": "code",
   "execution_count": null,
   "metadata": {
    "collapsed": true
   },
   "outputs": [],
   "source": []
  }
 ],
 "metadata": {
  "kernelspec": {
   "display_name": "Python 3",
   "language": "python",
   "name": "python3"
  },
  "language_info": {
   "codemirror_mode": {
    "name": "ipython",
    "version": 3
   },
   "file_extension": ".py",
   "mimetype": "text/x-python",
   "name": "python",
   "nbconvert_exporter": "python",
   "pygments_lexer": "ipython3",
   "version": "3.4.3"
  }
 },
 "nbformat": 4,
 "nbformat_minor": 0
}
